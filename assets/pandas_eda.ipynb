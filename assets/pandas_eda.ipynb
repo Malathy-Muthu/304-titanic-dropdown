{
 "cells": [
  {
   "cell_type": "code",
   "execution_count": 9,
   "metadata": {},
   "outputs": [],
   "source": [
    "\n",
    "import pandas as pd\n",
    "df = pd.read_csv('chicago.csv')\n"
   ]
  },
  {
   "cell_type": "code",
   "execution_count": 10,
   "metadata": {},
   "outputs": [
    {
     "data": {
      "text/html": [
       "<div>\n",
       "<style scoped>\n",
       "    .dataframe tbody tr th:only-of-type {\n",
       "        vertical-align: middle;\n",
       "    }\n",
       "\n",
       "    .dataframe tbody tr th {\n",
       "        vertical-align: top;\n",
       "    }\n",
       "\n",
       "    .dataframe thead th {\n",
       "        text-align: right;\n",
       "    }\n",
       "</style>\n",
       "<table border=\"1\" class=\"dataframe\">\n",
       "  <thead>\n",
       "    <tr style=\"text-align: right;\">\n",
       "      <th></th>\n",
       "      <th>Address</th>\n",
       "      <th>Neighborhood</th>\n",
       "      <th>HouseType</th>\n",
       "      <th>Price</th>\n",
       "      <th>Bath</th>\n",
       "      <th>CrimeIndex</th>\n",
       "      <th>MinutesToLoop</th>\n",
       "      <th>MilesToLake</th>\n",
       "      <th>Age</th>\n",
       "      <th>LotSizeSqft</th>\n",
       "      <th>HouseSizeSqft</th>\n",
       "      <th>SchoolIndex</th>\n",
       "    </tr>\n",
       "  </thead>\n",
       "  <tbody>\n",
       "    <tr>\n",
       "      <th>0</th>\n",
       "      <td>2111 W Division St #5, Chicago IL</td>\n",
       "      <td>Wicker Park</td>\n",
       "      <td>Condo</td>\n",
       "      <td>390000</td>\n",
       "      <td>NaN</td>\n",
       "      <td>2.59</td>\n",
       "      <td>9</td>\n",
       "      <td>3.91</td>\n",
       "      <td>0</td>\n",
       "      <td>0</td>\n",
       "      <td>0</td>\n",
       "      <td>36.2</td>\n",
       "    </tr>\n",
       "    <tr>\n",
       "      <th>1</th>\n",
       "      <td>1520 W Walton St #2, Chicago IL</td>\n",
       "      <td>Wicker Park</td>\n",
       "      <td>Condo</td>\n",
       "      <td>320500</td>\n",
       "      <td>NaN</td>\n",
       "      <td>4.10</td>\n",
       "      <td>7</td>\n",
       "      <td>3.02</td>\n",
       "      <td>0</td>\n",
       "      <td>0</td>\n",
       "      <td>0</td>\n",
       "      <td>91.7</td>\n",
       "    </tr>\n",
       "    <tr>\n",
       "      <th>2</th>\n",
       "      <td>2047 W Thomas St, Chicago IL</td>\n",
       "      <td>Wicker Park</td>\n",
       "      <td>Multi-Family Home</td>\n",
       "      <td>620000</td>\n",
       "      <td>4.0</td>\n",
       "      <td>2.09</td>\n",
       "      <td>9</td>\n",
       "      <td>3.84</td>\n",
       "      <td>94</td>\n",
       "      <td>3049</td>\n",
       "      <td>3492</td>\n",
       "      <td>36.2</td>\n",
       "    </tr>\n",
       "    <tr>\n",
       "      <th>3</th>\n",
       "      <td>1735 N Paulina St #314, Chicago IL</td>\n",
       "      <td>Wicker Park</td>\n",
       "      <td>Condo</td>\n",
       "      <td>318000</td>\n",
       "      <td>NaN</td>\n",
       "      <td>2.40</td>\n",
       "      <td>9</td>\n",
       "      <td>2.90</td>\n",
       "      <td>0</td>\n",
       "      <td>0</td>\n",
       "      <td>0</td>\n",
       "      <td>50.0</td>\n",
       "    </tr>\n",
       "    <tr>\n",
       "      <th>4</th>\n",
       "      <td>1634 W Beach Ave, Chicago IL</td>\n",
       "      <td>Wicker Park</td>\n",
       "      <td>Multi-Family Home</td>\n",
       "      <td>477000</td>\n",
       "      <td>2.0</td>\n",
       "      <td>4.63</td>\n",
       "      <td>9</td>\n",
       "      <td>2.96</td>\n",
       "      <td>31</td>\n",
       "      <td>2614</td>\n",
       "      <td>1840</td>\n",
       "      <td>78.9</td>\n",
       "    </tr>\n",
       "  </tbody>\n",
       "</table>\n",
       "</div>"
      ],
      "text/plain": [
       "                              Address Neighborhood          HouseType   Price  \\\n",
       "0   2111 W Division St #5, Chicago IL  Wicker Park              Condo  390000   \n",
       "1     1520 W Walton St #2, Chicago IL  Wicker Park              Condo  320500   \n",
       "2        2047 W Thomas St, Chicago IL  Wicker Park  Multi-Family Home  620000   \n",
       "3  1735 N Paulina St #314, Chicago IL  Wicker Park              Condo  318000   \n",
       "4        1634 W Beach Ave, Chicago IL  Wicker Park  Multi-Family Home  477000   \n",
       "\n",
       "   Bath  CrimeIndex  MinutesToLoop  MilesToLake  Age  LotSizeSqft  \\\n",
       "0   NaN        2.59              9         3.91    0            0   \n",
       "1   NaN        4.10              7         3.02    0            0   \n",
       "2   4.0        2.09              9         3.84   94         3049   \n",
       "3   NaN        2.40              9         2.90    0            0   \n",
       "4   2.0        4.63              9         2.96   31         2614   \n",
       "\n",
       "   HouseSizeSqft  SchoolIndex  \n",
       "0              0         36.2  \n",
       "1              0         91.7  \n",
       "2           3492         36.2  \n",
       "3              0         50.0  \n",
       "4           1840         78.9  "
      ]
     },
     "execution_count": 10,
     "metadata": {},
     "output_type": "execute_result"
    }
   ],
   "source": [
    "df.head()"
   ]
  },
  {
   "cell_type": "code",
   "execution_count": 15,
   "metadata": {},
   "outputs": [
    {
     "data": {
      "text/plain": [
       "Index(['Address', 'Neighborhood', 'HouseType', 'Price', 'Bath', 'CrimeIndex',\n",
       "       'MinutesToLoop', 'MilesToLake', 'Age', 'LotSizeSqft', 'HouseSizeSqft',\n",
       "       'SchoolIndex'],\n",
       "      dtype='object')"
      ]
     },
     "execution_count": 15,
     "metadata": {},
     "output_type": "execute_result"
    }
   ],
   "source": [
    "df.columns"
   ]
  },
  {
   "cell_type": "code",
   "execution_count": 4,
   "metadata": {},
   "outputs": [],
   "source": [
    "df['Female']=df['Sex'].map({'male':0, 'female':1})\n",
    "df['Cabin Class'] = df['Pclass'].map({1:'first', 2: 'second', 3:'third'})"
   ]
  },
  {
   "cell_type": "code",
   "execution_count": 21,
   "metadata": {},
   "outputs": [],
   "source": [
    "grouped_mean=df.groupby(['Baths', 'Neighborhood'])['SchoolIndex'].mean()"
   ]
  },
  {
   "cell_type": "code",
   "execution_count": null,
   "metadata": {},
   "outputs": [],
   "source": [
    "Price CrimeIndex SchoolIndex"
   ]
  },
  {
   "cell_type": "code",
   "execution_count": 14,
   "metadata": {},
   "outputs": [
    {
     "data": {
      "text/plain": [
       "<bound method Series.unique of 0      NaN\n",
       "1      NaN\n",
       "2      4.0\n",
       "3      NaN\n",
       "4      2.0\n",
       "      ... \n",
       "214    NaN\n",
       "215    3.0\n",
       "216    NaN\n",
       "217    NaN\n",
       "218    NaN\n",
       "Name: Bath, Length: 219, dtype: float64>"
      ]
     },
     "execution_count": 14,
     "metadata": {},
     "output_type": "execute_result"
    }
   ],
   "source": [
    "df['Bath'].unique"
   ]
  },
  {
   "cell_type": "code",
   "execution_count": 16,
   "metadata": {},
   "outputs": [],
   "source": [
    "df['Baths'] = df['Bath'].map({1:'first', 2: 'second', 3:'third'})"
   ]
  },
  {
   "cell_type": "code",
   "execution_count": 17,
   "metadata": {},
   "outputs": [
    {
     "data": {
      "text/plain": [
       "<bound method Series.unique of 0         NaN\n",
       "1         NaN\n",
       "2         NaN\n",
       "3         NaN\n",
       "4      second\n",
       "        ...  \n",
       "214       NaN\n",
       "215     third\n",
       "216       NaN\n",
       "217       NaN\n",
       "218       NaN\n",
       "Name: Baths, Length: 219, dtype: object>"
      ]
     },
     "execution_count": 17,
     "metadata": {},
     "output_type": "execute_result"
    }
   ],
   "source": [
    "df['Baths'].unique"
   ]
  },
  {
   "cell_type": "code",
   "execution_count": null,
   "metadata": {},
   "outputs": [],
   "source": []
  }
 ],
 "metadata": {
  "kernelspec": {
   "display_name": "d2l:Python",
   "language": "python",
   "name": "conda-env-d2l-py"
  },
  "language_info": {
   "codemirror_mode": {
    "name": "ipython",
    "version": 3
   },
   "file_extension": ".py",
   "mimetype": "text/x-python",
   "name": "python",
   "nbconvert_exporter": "python",
   "pygments_lexer": "ipython3",
   "version": "3.9.10"
  },
  "widgets": {
   "application/vnd.jupyter.widget-state+json": {
    "state": {},
    "version_major": 2,
    "version_minor": 0
   }
  }
 },
 "nbformat": 4,
 "nbformat_minor": 4
}
